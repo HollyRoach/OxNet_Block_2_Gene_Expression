{
 "cells": [
  {
   "cell_type": "markdown",
   "metadata": {},
   "source": [
    "# **OxNet Block 2 Seminars: Genetic Regulation**\n",
    "\n",
    "In this part of the seminar series, we will explore how a novel super-resolution microscopy technique can be used to investigate specific gene expression mechanisms. This analysis will be used to inform the role of certain proteins involved in the mechanism of X chromosome inactivation.\n",
    "\n",
    "### **Background: X Chromome Inactivation**\n",
    "\n",
    "__[X chromosome inactivation](https://www.khanacademy.org/science/biology/classical-genetics/sex-linkage-non-nuclear-chromosomal-mutations/a/x-inactivation)__ is an epigenetic mechanism used by female mammalian cells to equalise the levels of X-linked gene expression in XX females relative to XY males. This process happens during embroyonic development, and is controlled by the master regulator X-inactive specific transcript (Xist) RNA (Figure 1). Xist RNA is a long non-coding RNA molecule, which is transcribed and spreads across one of the X chromosomes that will later become inactivated. X chromosome inactivation has two phases: the initiation phase where there is a gradual increase in Xist RNA that begins to cover the X chromosome; and the maintenance phase is when Xist RNA has fully spread across the inactive X chromosome. "
   ]
  },
  {
   "cell_type": "markdown",
   "metadata": {},
   "source": [
    "\n",
    "<img src=\"images/XCI_Overview_Figure.jpg\" alt=\"image\" width=\"600\" height=\"auto\">"
   ]
  },
  {
   "cell_type": "markdown",
   "metadata": {},
   "source": [
    "*Figure 1 - Schematic showing Xist RNA spreading across the X chromosome elect, which will ultimately form the compacted inactive X chromosome (Xi) that associates with the nuclear periphery. The active X chromosome (Xa) does not express Xist RNA, and remains uncompacted and able to express genes. For a more detail understanding the process and mechanisms underpinning X chromosome inactivation, please refer to the __[online lectures](https://www.ibiology.org/development-and-stem-cells/x-chromosome-inactivation/)__  develivered by Dr Jeanie Lee.*"
   ]
  },
  {
   "cell_type": "markdown",
   "metadata": {},
   "source": [
    "During the process of Xist RNA spreading across the chromosome, proteins are recruited and bind to elements located on the Xist RNA molecules. These proteins add __[epigentic modifications](https://www.khanacademy.org/science/ap-biology/gene-expression-and-regulation/regulation-of-gene-expression-and-cell-specialization/v/dna-and-chromatin-regulation)__ to the underlying X chromosome, ultimately causing the X chromosome DNA to become more compact and inactivating the chromosome (Figure 2)."
   ]
  },
  {
   "cell_type": "markdown",
   "metadata": {},
   "source": [
    "<img src=\"images/Epigentic_Modifications.png\" alt=\"image\" width=\"600\" height=\"auto\">"
   ]
  },
  {
   "cell_type": "markdown",
   "metadata": {},
   "source": [
    "*Figure 2 - Schematic showing epigentic modifications of chromsomes. Chromosomes are made up of DNA which is wrapped around histone proteins. Epigenetic modifications result in chemical groups either being directly added to the DNA (e.g. DNA methylation), or chemical groups being added to histone tails (e.g. histone acetylation). These chemical groups alter the structure of the chromosome, leading to the DNA either being accessible or compact. If the DNA is more accessible, gene expression from the DNA will increase. However, if the DNA becomes more compact and inaccessible, gene expression from the DNA will decrease.*"
   ]
  },
  {
   "cell_type": "markdown",
   "metadata": {},
   "source": [
    "Therefore, these proteins that bind to Xist RNA are involved in controlling X chromosome inactivation (Figure 3). To date, it is known that there are two main pathways involved in Xist-mediated silencing, that are controlled by either the SPEN or hnRNPK proteins. Together, these proteins add different histone modifcations to the X chromosome. Additionally, SPEN is thought to be involved in localising Xist RNA to the X chromosome."
   ]
  },
  {
   "cell_type": "markdown",
   "metadata": {},
   "source": [
    "<img src=\"images/Xist_RNA_Binding_Proteins.png\" alt=\"image\" width=\"600\" height=\"auto\">"
   ]
  },
  {
   "cell_type": "markdown",
   "metadata": {},
   "source": [
    "*Figure 3 - Illustration demonstrating which repeat elements of Xist RNA bind to three proteins, RBM15 (brown), SPEN (green), and hnRNPK (purple). It also shows which factors these proteins recruit to Xist RNA and what downstream consequence this recruitment has in the mechanism of X chromosome inactivation.*"
   ]
  },
  {
   "cell_type": "markdown",
   "metadata": {},
   "source": [
    "In addition, there is a third pathway controlling X chromosome inactivation that remains to be fully characterised. This pathway involves the protein RBM15, that has been shown to bind to Xist RNA. Upon binding, this protein recruits the methyltransferase (MTAase) complex, which adds methyl groups to Xist RNA. **However, it is unknown what effect methylation of Xist RNA has on the role of Xist RNA in X chromosome inactivation.**\n",
    "\n",
    "For other RNA molecules, methylation has been shown to have multiple downstream consequences on the behaviour of the RNA (Figure 4)."
   ]
  },
  {
   "cell_type": "markdown",
   "metadata": {},
   "source": [
    "<img src=\"images/m6A_Modification.png\" alt=\"image\" width=\"400\" height=\"auto\">"
   ]
  },
  {
   "cell_type": "markdown",
   "metadata": {},
   "source": [
    "*Figure 4 - Overview of downstream consquences that the adding a methyl group to an RNA molecule can have on the behaviour of the RNA molecule.*"
   ]
  },
  {
   "cell_type": "markdown",
   "metadata": {},
   "source": [
    "### **Background: RNA-SPLIT Microscopy Technique**\n",
    "\n",
    "To investigate the effect methylation of Xist RNA has on the role Xist RNA in X chromosome inactivation, we will analyse data collected from super-resolution microscopy images of cells undergoing the initiation and maintenance phases of X chromosome inactivation.\n",
    "\n",
    "These images were generated using a novel super-resolution microscopy technique called RNA-SPLIT (Sequential Pulse Localisation Imaging over Time), that was prioneered by the __[Brockdorff Lab Group](https://sites.google.com/site/brockdorfflab)__. This technique enables real-time measurements of individual Xist RNA molecules. Importantly, these Xist RNA molecules can be visualised under a super-resolution microscope, by adding fluorescent ligands that bind to the Xist RNA molecules.\n",
    "\n",
    "If you add two different fluorescent ligands sequentially, it is possible to determine how many new Xist RNA molecules were synthesised during the time difference between adding the second ligand (Figure 5).\n",
    "\n"
   ]
  },
  {
   "cell_type": "markdown",
   "metadata": {},
   "source": [
    "<img src=\"images/RNA_SPLIT_Labelling.jpg\" alt=\"image\" width=\"800\" height=\"auto\">"
   ]
  },
  {
   "cell_type": "markdown",
   "metadata": {},
   "source": [
    "*Figure 5 - Schematic depicating how sequential using labelling of two different fluorescent ligands allows the visualisation of newly synthesised Xist RNA overtime. For full details on this method please refer to the original __[scientific publication](https://www.science.org/doi/10.1126/science.abe7500)__.*"
   ]
  },
  {
   "cell_type": "markdown",
   "metadata": {},
   "source": [
    "These super-resolution microscopy images can then be analysed through an alogrithm, which is able to calculate the number of pre-synthesied Xist RNA molecules (`old_centroids`) and the number of newly synthesied Xist RNA molecules (`new_centroids`) located within each cell.\n",
    "\n",
    "Therefore, by sequentially adding a second fluorescent ligand after waiting for different lengths of time (`time_point`), it is possible to monitor the dynamic behaviour of Xist RNA within a cell. This can be achieved by calculating:\n",
    "1. Total abundance of Xist RNA = number of `old_centroids` + number of `new_centroids`\n",
    "2. Turnover rate of Xist RNA (degradation)= change in the number of `old_centroids` over time \n",
    "3. Synthesis rate of Xist RNA (transcription) = change in the number of `new_centroids` over time"
   ]
  },
  {
   "cell_type": "markdown",
   "metadata": {},
   "source": [
    "### **Aims and Objectives**\n",
    "\n",
    "In this notebook, you will learn how to import, manipulate, and visualise super-resolution microscopy datasets to quantify the role of Xist RNA methylation on the mechanism of X chromosome inactivation.\n",
    "\n",
    "Using images generated by the RNA-SPLIT technique, we will analyse data collected from two different cell lines:\n",
    "1. `wild_type` cells: normally behaving cells, that will contain methylated Xist RNA \n",
    "2. `mutant` cells: these cells have been genetically modified so that Xist RNA is unable to be methylated. \n",
    "\n",
    "Therefore, by comparing super-resolution microscopy images from cells with either normal methylated Xist RNA (`wild_type` cells), to cells without meythylated Xist RNA (`mutant` cells), we can assess whether the behaviour of Xist RNA is influenced by methylation.\n",
    "\n",
    "By conducting __[Mann-Whitney U Tests](https://www.reneshbedre.com/blog/mann-whitney-u-test.html)__ you will assess whether differences observed between the `mutant` and `wild_type`cell lines are statistically signfificant. \n",
    "\n",
    "As an extension, you will have the oppurtunity to analyse an additional dataset collected from cells that have a mutation in the RNA binding domain of the SPEN protein (`spen_mutant` cells). By comparing the data obtained for the `spen_mutant` and `wild_type`cell lines, you will be able to address what effect recruitment of SPEN to Xist RNA has on the mechanism of X chromosome inactivation. \n",
    "\n",
    "You will then be expected to **write up your results in a 1-2 page** __[scientific report](https://www.ncl.ac.uk/academic-skills-kit/assessment/assignment-types/structuring-a-science-report/)__ (maxium 2.5 pages, including figures).  This report should contain the following sections:\n",
    "1. Introduction - explain the background and rationale of your experiment\n",
    "2. Methods - explain the type of data your experiment will collect, and how this data will be analysed\n",
    "3. Results - explain the results you obtained from your data analysis\n",
    "4. Discussion - explain how your results can be interpreted\n",
    "\n",
    "Working with your lab group, you will be expected to create a __[scientific poster](https://ohiostate.pressbooks.pub/scientificposterguide/chapter/scientific-posters/)__ outling the analysis and results you obtained for this notebook. These posters will be presented by your lab group during Access Week in August."
   ]
  },
  {
   "cell_type": "markdown",
   "metadata": {},
   "source": [
    "### **Deadlines and submission of work**\n",
    "\n",
    "To submit your work for this seminar, you will be expected to send a copy of your **completed notebook and scientific report** to Paddy McDevitt by midday (12pm noon) on **Thursday 3rd July**. Each notebook should be submitted in the following format: *\"FirstName_LastName_Block_X_Seminar.ipynb\"*. Your scientific report should be submitted as either a word or PDF document in the format: *\"FirstName_LastName_Block_2_Scentific_Report.pdf\"*\n",
    "\n",
    "Each lab group will be expected to submit your **scientific posters** for the four seminar blocks to Paddy McDevitt by midday (12pm noon) on **Thursday 24th July**. You should only submit one copy of each scientific poster per lab group as a powerpoint presentation in the following format: *\"Lab_Group_X_Block_X_Seminar.ppt\"*"
   ]
  },
  {
   "cell_type": "markdown",
   "metadata": {},
   "source": [
    "### **Data Analysis**"
   ]
  },
  {
   "cell_type": "markdown",
   "metadata": {},
   "source": [
    "#### Step 1: Install and import relevent packages and libraries\n",
    "\n",
    "For this notebook we will be using the following packages and libraries:\n",
    "1. `pandas` library - for manipulating dataframes\n",
    "2. `seaborn` library - for ploting and visulising the data\n",
    "3. `stats` package from the `scipy` library - for conducting statistical analysis\n",
    "\n",
    "For packages and libraries you have not used before, make sure to install them to your enviroment using `% pip install`."
   ]
  },
  {
   "cell_type": "code",
   "execution_count": null,
   "metadata": {},
   "outputs": [],
   "source": [
    "# install packages\n",
    "# Remove the # from the line below and run the cell to install required packages\n",
    "#%pip install pandas seaborn scipy"
   ]
  },
  {
   "cell_type": "code",
   "execution_count": null,
   "metadata": {},
   "outputs": [],
   "source": [
    "# load packages\n",
    "import pandas as pd\n",
    "import seaborn as sns\n",
    "from scipy import stats"
   ]
  },
  {
   "cell_type": "markdown",
   "metadata": {},
   "source": [
    "#### Step 2: Import and explore data\n",
    "\n",
    "For this analysis we will analyse two different datasets generated by analysing cells using the RNA-SPLIT technique:\n",
    "1. `wild_type_dataset.csv` - contains data obtained from cells with no mutations, so they will contain normal Xist RNA\n",
    "2. `mutant_dataset.csv` - contains data obtained from mutant cells that are unable to methylate Xist RNA\n",
    "\n",
    "\n",
    "When first importing a dataset it is important to get a feel for the data it contains. Therefore, we will use the `head()`, and `describe()` functions to gain some inital insights. \n",
    "\n",
    "To find out more about different functions, we can use the `help()` function to return the python documentation regarding our function of interest. For example, to see the documentation for the `pd.read_csv` function we can run `help(pd.read_csv)`. Many useful functions in the `pandas` package are actually methods attached to the `DataFrame` object, you can also use the `help()` function to find out more about these methods. For example, to see the documentation for the `head()` method we can run `help(pd.DataFrame.head)`."
   ]
  },
  {
   "cell_type": "code",
   "execution_count": null,
   "metadata": {},
   "outputs": [],
   "source": [
    "# read in datasets obtained by RNA-SPLIT for the wild_type cell line\n",
    "wild_type_data = pd.read_csv(\"data/wild_type_dataset.csv\")\n",
    "\n",
    "# preview data\n",
    "wild_type_data.head()"
   ]
  },
  {
   "cell_type": "code",
   "execution_count": null,
   "metadata": {},
   "outputs": [],
   "source": [
    "# generate basic statistics on data\n",
    "wild_type_data.describe()"
   ]
  },
  {
   "cell_type": "markdown",
   "metadata": {},
   "source": [
    "The function `describe()` returns a set of basic statistics for each column. However, depending on your dataset it may be helpful to use the `groupby()` function to allow for more interesting insights.\n",
    "\n",
    "In our datasets, the number of pre-synthesised Xist RNA molecules (`old_centroids`) is determined based on the number of Xist RNA molecules stained with the 1st fluorescent ligand. After waiting for different periods of time (`time_point`) before the second fluorescent ligand is added, the number of newly synthesied Xist RNA molecules (`new_centroids`) is determined based on the number of Xist RNA molecules stained with the 2nd fluorescent ligand (Figure 5). These experiments were repeated for both the initiation and maintenance `phase` of X chromosome inactivation.\n",
    "\n",
    "Therefore, for our datasets it would be useful to calculate summary statistics for each `time_point` per `phase`."
   ]
  },
  {
   "cell_type": "code",
   "execution_count": null,
   "metadata": {},
   "outputs": [],
   "source": [
    "# create list of the variables to group the dataset by\n",
    "variables = [\"phase\", \"time_point\"]\n",
    "\n",
    "# determine summary statistics based on a specific grouping of variables within the dataset\n",
    "wild_type_data.groupby(variables).describe()"
   ]
  },
  {
   "cell_type": "markdown",
   "metadata": {},
   "source": [
    "#### **Task 1: Import and and inspect data for the mutant cell line**\n",
    "\n",
    "Using the the tools and information provided to you, import and inspect the data for mutant cell line (`mutant_dataset.csv`) "
   ]
  },
  {
   "cell_type": "code",
   "execution_count": null,
   "metadata": {},
   "outputs": [],
   "source": [
    "# write your own code in these cells\n",
    "mutant_data = ...\n"
   ]
  },
  {
   "cell_type": "code",
   "execution_count": null,
   "metadata": {},
   "outputs": [],
   "source": []
  },
  {
   "cell_type": "code",
   "execution_count": null,
   "metadata": {},
   "outputs": [],
   "source": []
  },
  {
   "cell_type": "code",
   "execution_count": null,
   "metadata": {},
   "outputs": [],
   "source": []
  },
  {
   "cell_type": "markdown",
   "metadata": {},
   "source": [
    "#### Step 2: Create one dataframe to use for downstream analysis\n",
    "\n",
    "We have now imported and inspected the raw data for the two different `cell_lines`, that correspond to the `wild_type_dataset.csv` and the `mutant_dataset.csv`\n",
    "\n",
    "These datasets will now be combined together usinng the `pd.concat()` function.\n"
   ]
  },
  {
   "cell_type": "code",
   "execution_count": null,
   "metadata": {},
   "outputs": [],
   "source": [
    "# combine datasets together\n",
    "data = pd.concat([wild_type_data, mutant_data])\n",
    "\n",
    "# returns the number of rows and columns of the dataframe\n",
    "print(data.shape)\n",
    "\n",
    "# shows the top 5 rows of the dataframe \n",
    "data.head()"
   ]
  },
  {
   "cell_type": "markdown",
   "metadata": {},
   "source": [
    "By using the `shape` function we can see that we still have 5 columns of data, and that the number of observations (rows) has increased. However, based on using `head()` we are unable to see whether the data for both the wild_type and mutant are present in the `cell_line` columns. Therefore, using the `value_counts()` function, we can assess the number of unique inputs avaliable for specific columns."
   ]
  },
  {
   "cell_type": "code",
   "execution_count": null,
   "metadata": {},
   "outputs": [],
   "source": [
    "# return the number of different data entries stored within the specified column\n",
    "data[\"cell_line\"].value_counts()"
   ]
  },
  {
   "cell_type": "markdown",
   "metadata": {},
   "source": [
    "#### **Task 2: Validate whether the datasets have been combined correctly**\n",
    "\n",
    "Using the functions you have learnt, e.g. `shape()` and `describe()`, assess whether the two dataset sets have been correctly combined together.\n"
   ]
  },
  {
   "cell_type": "code",
   "execution_count": null,
   "metadata": {},
   "outputs": [],
   "source": [
    "# write your code in the below cells"
   ]
  },
  {
   "cell_type": "code",
   "execution_count": null,
   "metadata": {},
   "outputs": [],
   "source": []
  },
  {
   "cell_type": "code",
   "execution_count": null,
   "metadata": {},
   "outputs": [],
   "source": []
  },
  {
   "cell_type": "code",
   "execution_count": null,
   "metadata": {},
   "outputs": [],
   "source": []
  },
  {
   "cell_type": "markdown",
   "metadata": {},
   "source": [
    "#### Step 3: Visualise Data\n",
    "\n",
    "Using the `seaborn` library, we will be able to visualise how the data collected for the `mutant` and `wild_type` cell lines differs between the two datasets. This will involve creating categorical plots (e.g barcharts, boxplots), and time series plots to visualise the distrubtion of the data.\n",
    "\n",
    "Firstly, using the `sns.catplot()` function we will visualise how many data entries we have for each `time_point`, `cell_line`, and `phase` within our combined dataset. "
   ]
  },
  {
   "cell_type": "code",
   "execution_count": null,
   "metadata": {},
   "outputs": [],
   "source": [
    "# function from the seaborn library to create a categorical plot\n",
    "sns.catplot(\n",
    "    # define type of plot (i.e. \"count\" for a simple bar chart of counts, or \"box\" for boxplot, or \"bar\" for a custom bar chart)\n",
    "    kind=\"count\",\n",
    "    # define which dataset to be used in the plot\n",
    "    data=data,\n",
    "    # define which variable to be presented on the x-axis\n",
    "    x=\"time_point\",\n",
    ")"
   ]
  },
  {
   "cell_type": "markdown",
   "metadata": {},
   "source": [
    "In the above plot, we can now visualise how many data enteries we have for each `time_point`. By specifiying the `hue`, we can also seperate the data entries by `cell_line`. This will give us an inital insight into how our two datasets might differ.\n"
   ]
  },
  {
   "cell_type": "code",
   "execution_count": null,
   "metadata": {},
   "outputs": [],
   "source": [
    "sns.catplot(\n",
    "    kind=\"count\",\n",
    "    data=data,\n",
    "    x=\"time_point\",\n",
    "    # seperates the data into different colours, based on a column in our dataframe\n",
    "    hue=\"cell_line\"\n",
    ")"
   ]
  },
  {
   "cell_type": "markdown",
   "metadata": {},
   "source": [
    "In addition to separating the data based on `hue`, we can also create multiple plots from the same dataframe for each value within a column. This can be achieved by defining `col` or `row` to equal a specific column in the dataframe. By setting the `row` argument, the multiple plots will be stacked vertically, while for `col`the plots will be stacked horizontally."
   ]
  },
  {
   "cell_type": "code",
   "execution_count": null,
   "metadata": {},
   "outputs": [],
   "source": [
    "sns.catplot(\n",
    "    kind=\"count\",\n",
    "    data=data,\n",
    "    x=\"time_point\",\n",
    "    hue=\"cell_line\",\n",
    "    # creates mulltiple graphs which are seperated into columns based on a defined variable\n",
    "    col=\"phase\"\n",
    ")"
   ]
  },
  {
   "cell_type": "markdown",
   "metadata": {},
   "source": [
    "By setting `kind` equal to `box`, we can also visualise our data as a boxplot. When plotting boxplots, it is also possible to set a variable on the y-axis. \n",
    "\n",
    "In the example below, the number of pre-synthesied Xist RNA molecules (`old_centroids`) per `time_point` is plotted. Data entries that are outliers are represented on the figure by individual points. These outliers can be hidden from the plot by setting `showfliers` equal to `False`.\n"
   ]
  },
  {
   "cell_type": "code",
   "execution_count": null,
   "metadata": {},
   "outputs": [],
   "source": [
    "sns.catplot(\n",
    "    kind=\"box\",\n",
    "    data=data,\n",
    "    x=\"time_point\",\n",
    "    y=\"old_centroids\"\n",
    ")"
   ]
  },
  {
   "cell_type": "markdown",
   "metadata": {},
   "source": [
    "In addition, we can also use `sns.lmplot()` function to visualise the relationship between two variables. Within this function, if we set `fit_reg` equal to `True`, it will estimate and plot a regression model relating the x and y variables.\n",
    "\n",
    "For example, we will visualise how the number of newly synthesised Xist RNA molecules (`new_centroids`) relates to number of pre-synthesised Xist RNA (`old_centroids`) for the two different cell lines (`wild_type` vs `mutant`)."
   ]
  },
  {
   "cell_type": "code",
   "execution_count": null,
   "metadata": {},
   "outputs": [],
   "source": [
    "sns.lmplot(\n",
    "    data=data,\n",
    "    x=\"new_centroids\",\n",
    "    y=\"old_centroids\",\n",
    "    scatter=True,\n",
    "    hue=\"cell_line\",\n",
    "    # by setting to False, it does not estimate or plot a regression model for the data\n",
    "    fit_reg=False,\n",
    ")"
   ]
  },
  {
   "cell_type": "markdown",
   "metadata": {},
   "source": [
    "#### Step 4: Assess influence on Xist RNA abundance\n",
    "\n",
    "To assess whether methylation of Xist RNA influences the overall abundnace of Xist RNA molecules, we first need to calculate the total number of Xist RNA molecules present in each cell. We can do this by calculating:\n",
    "\n",
    " `total_centroids` = number of `old_centroids` + number of `new_centroids`\n",
    "\n",
    "Within our exisiting dataframe, we can create a new column and define the value of each row in the column using the below syntax:"
   ]
  },
  {
   "cell_type": "code",
   "execution_count": null,
   "metadata": {},
   "outputs": [],
   "source": [
    "data[\"total_centroids\"] = data[\"old_centroids\"] + data[\"new_centroids\"]\n",
    "\n",
    "data.head()"
   ]
  },
  {
   "cell_type": "markdown",
   "metadata": {},
   "source": [
    "#### **Task 3: Visualise Xist RNA abundance**\n",
    "\n",
    "Based on what you have been taught, create a boxplot to visualise if there is a difference in the overall abundance of Xist RNA molecules between the `wild_type` and `mutant` cell lines for both the `initiation` and `maintenance` phases of X chromsome inactivation."
   ]
  },
  {
   "cell_type": "code",
   "execution_count": null,
   "metadata": {},
   "outputs": [],
   "source": [
    "# write your code in here\n"
   ]
  },
  {
   "cell_type": "code",
   "execution_count": null,
   "metadata": {},
   "outputs": [],
   "source": []
  },
  {
   "cell_type": "code",
   "execution_count": null,
   "metadata": {},
   "outputs": [],
   "source": []
  },
  {
   "cell_type": "markdown",
   "metadata": {},
   "source": [
    "#### Step 5: Assess influence on the turnover of Xist RNA abundance\n",
    "\n",
    "To assess whether methylation of Xist RNA influences the turnover Xist RNA molecules, we can visualise how the number of  `old_centroids` changes over to time.\n",
    "\n",
    "To do this we will need to calculate the mean number of `old_centroids` per `time_point` and `phase` for each `cell_line`. This can be achieved by creating a new dataframe `turnover_data` based on our original dataframe `data`, and using the follwoing functions:\n",
    "1. `groupby()` allows us to group the data for each `cell_line` per `phase` and `time_point` for later calculations.\n",
    "2. `[\"old_centroids\"].mean()` selects the `old_centroids` column and calculates the mean for each group within the dataframe\n",
    "3. `reset_index() `sets the indexes of the dataframe back to columns. This is important as after grouped calculations, pandas will turn the grouping columns into the index (another way to describe the index is that it is the row names of the dataframe). But we want to use these columns for plotting, so have to use `reset_index()` to turn them back into columns. We could alternatively specify `as_index=False` within the `groupby()` function."
   ]
  },
  {
   "cell_type": "code",
   "execution_count": null,
   "metadata": {},
   "outputs": [],
   "source": [
    "# create new dataframe containing the mean number of old_centroids for each cell_line per phase and time_point\n",
    "turnover_data = data.groupby([\"cell_line\", \"phase\", \"time_point\"])[\"old_centroids\"].mean().reset_index()\n",
    "\n",
    "turnover_data.head()"
   ]
  },
  {
   "cell_type": "markdown",
   "metadata": {},
   "source": [
    "#### **Task 4: Visualise Xist RNA turnover**\n",
    "\n",
    "Based on what you have been taught, create a `sns.lmplot` to create and visualise a regression model to assess if there is a difference in the turnover rate of Xist RNA molecules between the `wild_type` and `mutant` cell lines for both the `initiation` and `maintenance` phases of X chromsome inactivation. "
   ]
  },
  {
   "cell_type": "code",
   "execution_count": null,
   "metadata": {},
   "outputs": [],
   "source": [
    "# write your code here\n"
   ]
  },
  {
   "cell_type": "code",
   "execution_count": null,
   "metadata": {},
   "outputs": [],
   "source": []
  },
  {
   "cell_type": "code",
   "execution_count": null,
   "metadata": {},
   "outputs": [],
   "source": []
  },
  {
   "cell_type": "markdown",
   "metadata": {},
   "source": [
    "#### **Task 5: Assess influence on the synthesis of Xist RNA abundance**\n",
    "\n",
    "Based on what you have been taught in this notebook, assess whether methylation of Xist RNA influences the synthesis of Xist RNA molecules.\n"
   ]
  },
  {
   "cell_type": "code",
   "execution_count": null,
   "metadata": {},
   "outputs": [],
   "source": [
    "# write your code here\n"
   ]
  },
  {
   "cell_type": "code",
   "execution_count": null,
   "metadata": {},
   "outputs": [],
   "source": []
  },
  {
   "cell_type": "code",
   "execution_count": null,
   "metadata": {},
   "outputs": [],
   "source": []
  },
  {
   "cell_type": "markdown",
   "metadata": {},
   "source": [
    "#### Step 6: Assess statistical significance of results\n",
    "\n",
    "__[Hypothesis testing](https://www.khanacademy.org/math/statistics-probability/significance-tests-one-sample/idea-of-significance-tests/v/simple-hypothesis-testing)__ is a statistical technique that can be used to assess the probability of whether two groups are signifcantly different. This involves comparing what is *observed* in our sample data against what is *expected* if the null hypothesis were true. The null hypothesis is that there will be no difference between the two groups. \n",
    "\n",
    "These tests generate a P-value that represents the probability (or chance) of observing no difference between our sample data for the two groups. Therefore, the *smaller a P-value is, the stronger the evidence there is that the difference between the two groups is statistically significant*.\n",
    "\n",
    "Importantly, when performing a hypothesis test, it *only measures the strength of evidence* against the null hypothesis, they do not measure how big the difference is between the two groups. Therefore, it is possible that two groups are statistically significant, however the biological difference can also be small at the same time.\n",
    "\n",
    "To determine whether methylation of Xist RNA has a statistically significant effect on the behaviour of Xist RNA during the process of X chromosome inactivation. We will use __[Mann-Whitney U Tests](https://www.reneshbedre.com/blog/mann-whitney-u-test.html)__ to calculate P-values to assess whether there is a statistical difference between the `wild_type` and `mutant` cell lines in both the `initiation` and `maintenance` phases for:\n",
    "1. the overall abundance of Xist RNA (`total_centroids`)\n",
    "2. the turnover (degradtion) rate of Xist RNA (`old_centroids`)\n",
    "3. the synthesis (transcription) rate of Xist RNA (`new_centroids`)\n",
    "\n",
    "In python these tests can be performed using the `stats.mannwhitneyu()` function from the scipy library. As an input, this function requires the data from both groups to be stored in seperate arrays. Therefore, we will first need to create arrays from our combined dataframe in order to use these as an input for this function."
   ]
  },
  {
   "cell_type": "markdown",
   "metadata": {},
   "source": [
    "Using a nested __[for loops](https://www.datacamp.com/tutorial/loops-python-tutorial)__, we will create a structure so that the data for the `wild_type` and `mutant` cell lines and the `initiation` and `maintenance` phases are separated for the `total_centroids`, `old_centroid`, and `new_centroids`.\n",
    "\n",
    "We will create a __[dictionary](https://realpython.com/python-dicts/)__, which is a mapping from keys to values. In our case, the __keys__ will be a pair of strings that represent the `cell_line` and `phase`, and the __values__ will be a dataframe containing just three columns, `total_centroids`, `old_centroid`, and `new_centroids`."
   ]
  },
  {
   "cell_type": "code",
   "execution_count": null,
   "metadata": {},
   "outputs": [],
   "source": [
    "# create a list for the for loop to run through\n",
    "cell_lines = [\"wild_type\", \"mutant\"]\n",
    "phases = [\"Initiation\", \"Maintenance\"]\n",
    "\n",
    "mwu_data = {}\n",
    "\n",
    "for c in cell_lines:\n",
    "    for p in phases:\n",
    "        # select data based on cell_line and phase, this filters the main dataset to just a subset of rows\n",
    "        df_phase_cell = data[(data[\"cell_line\"] == c) & (data[\"phase\"] == p)]\n",
    "\n",
    "        # Create an entry in our dictionary for the cell and phase of our new dataframe with just 3 columns\n",
    "        mwu_data[(c, p)] = df_phase_cell[[\"total_centroids\", \"old_centroids\", \"new_centroids\"]]"
   ]
  },
  {
   "cell_type": "markdown",
   "metadata": {},
   "source": [
    "So using this structure, if we want to view the `total_centroids` column for the `wild_type` cell line and the `Initiation` phase, we can use the following syntax: `mwu_data[(\"wild_type\", \"Initiation\")][\"total_centroids\"]`.\n",
    "\n",
    "Note that this is doing two steps:\n",
    "1. Accessing the dictionary using the key `(\"wild_type\", \"Initiation\")` to get the dataframe\n",
    "2. Accessing the column \"`total_centroids\"` from the dataframe"
   ]
  },
  {
   "cell_type": "code",
   "execution_count": null,
   "metadata": {},
   "outputs": [],
   "source": [
    "# View the total_centroids data for the wild_type cell line in the initiation phase\n",
    "mwu_data[(\"wild_type\", \"Initiation\")][\"total_centroids\"]"
   ]
  },
  {
   "cell_type": "code",
   "execution_count": null,
   "metadata": {},
   "outputs": [],
   "source": [
    "# And we can see all the different keys for our dictionary as follows:\n",
    "list(mwu_data.keys())"
   ]
  },
  {
   "cell_type": "markdown",
   "metadata": {},
   "source": [
    "Using these dataframes, we can then select the approriate data to perform a Mann-Whitney U Test on. \n",
    "\n",
    "For example, if we compare `mwu_data[(\"wild_type\", \"Initiation\")][\"total_centroids\"]` to `mwu_data[(\"mutant\", \"Initiation\")][\"total_centroids\"]` we can assess whether there is a statistical difference in the number of `total_centroids` between the `wild_type` and `mutant` cell lines during the `Initiation` phase of X chromosome inactivation."
   ]
  },
  {
   "cell_type": "code",
   "execution_count": null,
   "metadata": {},
   "outputs": [],
   "source": [
    "stats.mannwhitneyu(\n",
    "    # select wild_type total_centroids data for the initiation phase\n",
    "    x=mwu_data[(\"wild_type\", \"Initiation\")][\"total_centroids\"],\n",
    "    # select mutant total_centroids data for the initiation phase\n",
    "    y=mwu_data[(\"mutant\", \"Initiation\")][\"total_centroids\"],\n",
    "    # defines that we will conduct a two-sided hypothesis test\n",
    "    alternative=\"two-sided\",\n",
    ")"
   ]
  },
  {
   "cell_type": "markdown",
   "metadata": {},
   "source": [
    "For the ouput of this test: `MannwhitneyuResult(statistic=49869.5, pvalue=0.03363740468512885)` we can see that the p-value is smaller than 0.05. Therefore, we can say that there is a less than 5% probability that the difference obsevred in the total number of Xist RNA molecules between the ¬wild_type` and `mutant` cell lines during the `initiation` phase of X chromosome inactivation occured by chance. As such, we can conclude that there is a statistically signifcant difference in Xist RNA abundance when the Xist RNA molecules do not contain methylation."
   ]
  },
  {
   "cell_type": "markdown",
   "metadata": {},
   "source": [
    "#### **Task 6: Interpret results**\n",
    "How does this result to compare to the graph you generated in generated in task 3? Add your comments to to the  markdown cell below."
   ]
  },
  {
   "cell_type": "markdown",
   "metadata": {},
   "source": [
    "*Double click on this cell to add your comments and analysis here*"
   ]
  },
  {
   "cell_type": "markdown",
   "metadata": {},
   "source": [
    "#### **Task 7: Perform Mann-Whitney Tests**\n",
    "Based on what you have taught, calculate p-values for the following comparisions:\n",
    "1. Compare the total abundance of Xist RNA between the `wild_type` and `mutant` cell lines during the `maintenance` phase of X chromosome inactivation.\n",
    "\n",
    "2. Compare the number of pre-synthesised (`old_centroids`) of Xist RNA between the `wild_type` and `mutant` cell lines during the `initiation` phase of X chromosome inactivation.\n",
    "\n",
    "3. Compare the number of pre-synthesised (`old_centroids`) of Xist RNA between the `wild_type` and `mutant` cell lines during the `maintenance` phase of X chromosome inactivation.\n",
    "\n",
    "4. Compare the number of newly synthesised (`new_centroids`) of Xist RNA between the `wild_type` and `mutant` cell lines during the `initiation` phase of X chromosome inactivation.\n",
    "\n",
    "5. Compare the number of pre-synthesised (`new_centroids`) of Xist RNA between the `wild_type` and `mutant` cell lines during the `maintenance` phase of X chromosome inactivation."
   ]
  },
  {
   "cell_type": "code",
   "execution_count": null,
   "metadata": {},
   "outputs": [],
   "source": [
    "# Write your code here"
   ]
  },
  {
   "cell_type": "code",
   "execution_count": null,
   "metadata": {},
   "outputs": [],
   "source": []
  },
  {
   "cell_type": "code",
   "execution_count": null,
   "metadata": {},
   "outputs": [],
   "source": []
  },
  {
   "cell_type": "markdown",
   "metadata": {},
   "source": [
    "#### **Extension: Assess spen_mutant dataset**\n",
    "\n",
    "Use the techniques and functions you have learnt to assess whether the recruitment of SPEN to Xist RNA has a statistically significant effect on the behaviour of Xist RNA during the process of X chromosome inactivation.\n",
    "\n",
    "This can be achieved by using the `spen_mutant_dataset.csv` and making comparisions between the total abundance, turnover, and synthesis of Xist RNA molecules between the `spen_mutant` and `wild_type` cell lines."
   ]
  },
  {
   "cell_type": "code",
   "execution_count": null,
   "metadata": {},
   "outputs": [],
   "source": [
    "# Write your code here"
   ]
  },
  {
   "cell_type": "code",
   "execution_count": null,
   "metadata": {},
   "outputs": [],
   "source": []
  },
  {
   "cell_type": "code",
   "execution_count": null,
   "metadata": {},
   "outputs": [],
   "source": []
  }
 ],
 "metadata": {
  "kernelspec": {
   "display_name": "base",
   "language": "python",
   "name": "python3"
  },
  "language_info": {
   "codemirror_mode": {
    "name": "ipython",
    "version": 3
   },
   "file_extension": ".py",
   "mimetype": "text/x-python",
   "name": "python",
   "nbconvert_exporter": "python",
   "pygments_lexer": "ipython3",
   "version": "3.11.5"
  }
 },
 "nbformat": 4,
 "nbformat_minor": 2
}
